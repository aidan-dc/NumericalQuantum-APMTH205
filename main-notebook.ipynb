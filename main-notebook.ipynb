{
 "cells": [
  {
   "cell_type": "markdown",
   "metadata": {},
   "source": [
    "# Main Notebook\n",
    "\n",
    "This Jupyter notebook contains the basic code needed for the functionality for obtaining numerical results for one dimensional potentials, as well as an example of how you would get started obtaining results using the 1D harmonic oscillator."
   ]
  },
  {
   "cell_type": "markdown",
   "metadata": {},
   "source": [
    "## Discretized Schrödinger Function"
   ]
  },
  {
   "cell_type": "code",
   "execution_count": 1,
   "metadata": {},
   "outputs": [],
   "source": [
    "# Necessary libraries\n",
    "import numpy as np\n",
    "import scipy as sp"
   ]
  },
  {
   "cell_type": "code",
   "execution_count": 12,
   "metadata": {},
   "outputs": [],
   "source": [
    "def discretized_schrodinger(potentialFunction, initialBoundaryPoint: float, finalBoundaryPoint: float, numPosSteps: int, numEigVals: int, mass: float, hbar=1.0):\n",
    "    # Calculate discretized points and spacing for [a,a+dx,a+2dx,...,b-dx,b]\n",
    "    xs = np.linspace(initialBoundaryPoint,finalBoundaryPoint,numPosSteps+2)\n",
    "    dx = np.diff(xs)[0]\n",
    "\n",
    "    # Compute potential along discretized points\n",
    "    Vx = potentialFunction(xs)\n",
    "\n",
    "    # Calculate main diagonal, trimming out end points where we should have psi(a)=psi(b)=0\n",
    "    main_diag = (np.power(dx,-2.0) + mass * Vx)[1:-1]\n",
    "    # Calculate sub/supradiagonal terms, constants defined by dx\n",
    "    off_diag  = np.power(dx,-2.0) * -0.5 * np.ones(len(main_diag)-1)\n",
    "\n",
    "    # Solve eigensystem using assumption matrix is symmetric tridiagonal,\n",
    "    # only return first numEigvals to cut down on unnecessary computation\n",
    "    eigvals, eigstates = sp.linalg.eigh_tridiagonal(\n",
    "        d            = main_diag,\n",
    "        e            = off_diag,\n",
    "        eigvals_only = False,\n",
    "        select       = 'i',\n",
    "        select_range = (0,numEigVals-1)\n",
    "    )\n",
    "\n",
    "    # Returns two elements including list of energy eigenvalues with shape (numEigVals,)\n",
    "    # as well as a list of eigenstates with shape (numEigVals,numPosSteps)\n",
    "    return (hbar/mass)*eigvals, eigstates.T"
   ]
  },
  {
   "cell_type": "markdown",
   "metadata": {},
   "source": [
    "## Harmonic Oscillator Example\n",
    "\n",
    "Here we look at obtaining the first ten energy eigenvalues for the potential\n",
    "$$V(x)=\\frac{1}{2}m\\omega^2 x^2$$\n",
    "which should have exact eigenvalues given by\n",
    "$$E_n=\\hbar \\omega \\left(n+\\frac{1}{2}\\right)$$"
   ]
  },
  {
   "cell_type": "code",
   "execution_count": 18,
   "metadata": {},
   "outputs": [
    {
     "name": "stdout",
     "output_type": "stream",
     "text": [
      "Numerical Result: 11.5955\n",
      "True exact Result: 11.5955\n",
      "\n",
      "Numerical Result: 34.7865\n",
      "True exact Result: 34.7865\n",
      "\n",
      "Numerical Result: 57.9775\n",
      "True exact Result: 57.9775\n",
      "\n",
      "Numerical Result: 81.1685\n",
      "True exact Result: 81.1685\n",
      "\n",
      "Numerical Result: 104.3595\n",
      "True exact Result: 104.3595\n",
      "\n"
     ]
    }
   ],
   "source": [
    "# Set up parameters\n",
    "\n",
    "# Reduced Planck's Constant, scaled to order unity here\n",
    "hbar  = 6.626\n",
    "# Angular frequency defining potential\n",
    "w     = 3.5\n",
    "# Left boundary point, should be negative\n",
    "a     = -15\n",
    "# Right boundary point, should be positive\n",
    "b     = 15\n",
    "# Number of mesh points between boundaries, must be int\n",
    "N     = int(1e5)\n",
    "# Number of eigenstates/eigenvalues to return\n",
    "n     = 5\n",
    "# Mass of particle considered\n",
    "m     = 4\n",
    "\n",
    "# Define the potential function for harmonic oscillator\n",
    "def harmonic_oscillator(x, omega, mass): return (mass/2)*np.power(omega*x,2)\n",
    "\n",
    "# Establish true energy eigenvalues for comparison\n",
    "true_HO_vals = [hbar*w*(n+0.5) for n in range(0,n)]\n",
    "\n",
    "# Obtain results from main function\n",
    "HO_vals, HO_states = discretized_schrodinger(lambda x: harmonic_oscillator(x,w,m),\n",
    "                                            a,\n",
    "                                            b,\n",
    "                                            N,\n",
    "                                            n,\n",
    "                                            m,\n",
    "                                            hbar)\n",
    "\n",
    "for val, true_val in zip(HO_vals, true_HO_vals):\n",
    "    print(f'Numerical Result: {val:.4f}')\n",
    "    print(f'True exact Result: {true_val:.4f}\\n')"
   ]
  }
 ],
 "metadata": {
  "kernelspec": {
   "display_name": "adc",
   "language": "python",
   "name": "python3"
  },
  "language_info": {
   "codemirror_mode": {
    "name": "ipython",
    "version": 3
   },
   "file_extension": ".py",
   "mimetype": "text/x-python",
   "name": "python",
   "nbconvert_exporter": "python",
   "pygments_lexer": "ipython3",
   "version": "3.11.5"
  }
 },
 "nbformat": 4,
 "nbformat_minor": 2
}
